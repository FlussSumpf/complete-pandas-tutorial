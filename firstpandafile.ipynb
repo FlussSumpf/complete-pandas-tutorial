{
 "cells": [
  {
   "metadata": {
    "ExecuteTime": {
     "end_time": "2025-04-17T19:20:12.825390Z",
     "start_time": "2025-04-17T19:19:34.275471Z"
    }
   },
   "cell_type": "code",
   "source": "import pandas as pd",
   "id": "26cf27548ac05748",
   "outputs": [],
   "execution_count": 1
  },
  {
   "metadata": {
    "ExecuteTime": {
     "end_time": "2025-04-17T19:22:07.227457Z",
     "start_time": "2025-04-17T19:22:02.138371Z"
    }
   },
   "cell_type": "code",
   "source": [
    "#imports\n",
    "coffee = pd.read_csv('./warmup-data/coffee.csv')\n",
    "results = pd.read_parquet('./data/results.parquet')\n",
    "bios = pd.read_csv('./data/bios.csv')"
   ],
   "id": "58f0b4e6d6fa257c",
   "outputs": [],
   "execution_count": 6
  },
  {
   "metadata": {
    "ExecuteTime": {
     "end_time": "2025-04-17T19:24:42.475206Z",
     "start_time": "2025-04-17T19:24:42.435500Z"
    }
   },
   "cell_type": "code",
   "source": "coffee.loc[0]",
   "id": "80a76c488921593f",
   "outputs": [
    {
     "data": {
      "text/plain": [
       "Day              Monday\n",
       "Coffee Type    Espresso\n",
       "Units Sold           25\n",
       "Name: 0, dtype: object"
      ]
     },
     "execution_count": 9,
     "metadata": {},
     "output_type": "execute_result"
    }
   ],
   "execution_count": 9
  },
  {
   "metadata": {},
   "cell_type": "code",
   "outputs": [],
   "execution_count": null,
   "source": "",
   "id": "313d9fefc4348e70"
  }
 ],
 "metadata": {
  "kernelspec": {
   "name": "python3",
   "language": "python",
   "display_name": "Python 3 (ipykernel)"
  }
 },
 "nbformat": 5,
 "nbformat_minor": 9
}
